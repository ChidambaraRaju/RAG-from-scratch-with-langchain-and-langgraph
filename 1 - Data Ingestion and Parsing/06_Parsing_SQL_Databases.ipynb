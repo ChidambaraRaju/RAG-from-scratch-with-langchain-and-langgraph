{
 "cells": [
  {
   "cell_type": "markdown",
   "id": "a987e0f2-b8d4-4b52-9c9e-5b23d9a1012a",
   "metadata": {},
   "source": [
    "### 📖 Where We Are\n",
    "\n",
    "**So far**, our journey has taken us through various data formats:\n",
    "1.  **Notebooks 1-3**: Covered unstructured files like `.txt`, `.pdf`, and `.docx`.\n",
    "2.  **Notebooks 4-5**: Handled structured and semi-structured file formats like CSV, Excel, and JSON.\n",
    "\n",
    "**In this notebook**, we take a significant step forward by learning to parse data directly from a **live SQL database**. This is a different paradigm from reading static files. Our focus will be on converting relational tables, their schemas, and the relationships between them into a text-based format that a Large Language Model can effectively use for Retrieval-Augmented Generation."
   ]
  },
  {
   "cell_type": "markdown",
   "id": "d456b6e2",
   "metadata": {},
   "source": [
    "### 1. SQL Databases"
   ]
  },
  {
   "cell_type": "markdown",
   "id": "e9a0c84f-a7b2-4d1e-8e43-8f6453531f94",
   "metadata": {},
   "source": [
    "Interfacing with SQL databases for RAG involves more than just dumping table rows into documents. To effectively answer questions, the LLM needs context about the **database schema**—what tables exist, what their columns are, and how they relate to each other.\n",
    "\n",
    "**Analogy**: Think of a SQL database as a perfectly organized library with many different collections of books (tables). \n",
    "- A **naive approach** would be to just copy the text from every page of every book. A researcher (the LLM) would be overwhelmed and have no idea how the books are related. \n",
    "- A **smart approach** is to provide the researcher with the library's **master catalog** (the database schema). This catalog describes each collection, its purpose, and how it cross-references other collections. You might also provide summaries of key information and relationships.\n",
    "\n",
    "Our goal is to create these 'catalog entries' and 'summaries' as `Document` objects. We'll start by setting up a simple SQLite database."
   ]
  },
  {
   "cell_type": "code",
   "execution_count": 1,
   "id": "b0e0ee88",
   "metadata": {},
   "outputs": [],
   "source": [
    "# `sqlite3` is Python's built-in library for interacting with SQLite databases.\n",
    "import sqlite3\n",
    "import os\n",
    "\n",
    "os.makedirs(\"data/databases\", exist_ok=True)"
   ]
  },
  {
   "cell_type": "code",
   "execution_count": 2,
   "id": "0fc06997",
   "metadata": {},
   "outputs": [],
   "source": [
    "# Connect to the SQLite database. This will create the file if it doesn't exist.\n",
    "conn = sqlite3.connect('data/databases/company.db')\n",
    "# A cursor object is used to execute SQL commands.\n",
    "cursor = conn.cursor()"
   ]
  },
  {
   "cell_type": "code",
   "execution_count": 3,
   "id": "eb49dc7d",
   "metadata": {},
   "outputs": [
    {
     "data": {
      "text/plain": [
       "<sqlite3.Cursor at 0x23dcc9092c0>"
      ]
     },
     "execution_count": 3,
     "metadata": {},
     "output_type": "execute_result"
    }
   ],
   "source": [
    "# Create an 'employees' table with a defined schema if it doesn't already exist.\n",
    "# This schema defines the columns and their data types.\n",
    "cursor.execute('''CREATE TABLE IF NOT EXISTS employees\n",
    "                 (id INTEGER PRIMARY KEY, name TEXT, role TEXT, department TEXT, salary REAL)''')"
   ]
  },
  {
   "cell_type": "code",
   "execution_count": 4,
   "id": "2fad8f09",
   "metadata": {},
   "outputs": [
    {
     "data": {
      "text/plain": [
       "<sqlite3.Cursor at 0x23dcc9092c0>"
      ]
     },
     "execution_count": 4,
     "metadata": {},
     "output_type": "execute_result"
    }
   ],
   "source": [
    "# Create a 'projects' table. Note the 'lead_id' column, which will relate to the 'id' in the employees table.\n",
    "cursor.execute('''CREATE TABLE IF NOT EXISTS projects\n",
    "                 (id INTEGER PRIMARY KEY, name TEXT, status TEXT, budget REAL, lead_id INTEGER)''')"
   ]
  },
  {
   "cell_type": "code",
   "execution_count": 5,
   "id": "2ba5a4db",
   "metadata": {},
   "outputs": [],
   "source": [
    "# Define sample data to insert into our tables.\n",
    "employees = [\n",
    "    (1, 'John Doe', 'Senior Developer', 'Engineering', 95000),\n",
    "    (2, 'Jane Smith', 'Data Scientist', 'Analytics', 105000),\n",
    "    (3, 'Mike Johnson', 'Product Manager', 'Product', 110000),\n",
    "    (4, 'Sarah Williams', 'DevOps Engineer', 'Engineering', 98000)\n",
    "]\n",
    "\n",
    "projects = [\n",
    "    (1, 'RAG Implementation', 'Active', 150000, 1),\n",
    "    (2, 'Data Pipeline', 'Completed', 80000, 2),\n",
    "    (3, 'Customer Portal', 'Planning', 200000, 3),\n",
    "    (4, 'ML Platform', 'Active', 250000, 2)\n",
    "]"
   ]
  },
  {
   "cell_type": "code",
   "execution_count": 6,
   "id": "73765fa9",
   "metadata": {},
   "outputs": [
    {
     "data": {
      "text/plain": [
       "<sqlite3.Cursor at 0x23dcc9092c0>"
      ]
     },
     "execution_count": 6,
     "metadata": {},
     "output_type": "execute_result"
    }
   ],
   "source": [
    "# Use `executemany` to efficiently insert multiple rows into the tables.\n",
    "# `INSERT OR REPLACE` will update a row if the primary key already exists, preventing duplicates.\n",
    "cursor.executemany('INSERT OR REPLACE INTO employees VALUES (?,?,?,?,?)', employees)\n",
    "cursor.executemany('INSERT OR REPLACE INTO projects VALUES (?,?,?,?,?)', projects)"
   ]
  },
  {
   "cell_type": "code",
   "execution_count": 7,
   "id": "cc55892f",
   "metadata": {},
   "outputs": [],
   "source": [
    "# Commit the changes to save them to the database file.\n",
    "conn.commit()\n",
    "# Always close the connection when you're done.\n",
    "conn.close()"
   ]
  },
  {
   "cell_type": "markdown",
   "id": "0867cb88",
   "metadata": {},
   "source": [
    "## 2. Database Content Extraction"
   ]
  },
  {
   "cell_type": "code",
   "execution_count": 8,
   "id": "b8a4946e",
   "metadata": {},
   "outputs": [],
   "source": [
    "# SQLDatabase: A LangChain utility that acts as a wrapper around any SQL database.\n",
    "from langchain_community.utilities import SQLDatabase\n",
    "# SQLDatabaseLoader: A loader that can execute a query and load the results.\n",
    "from langchain_community.document_loaders import SQLDatabaseLoader"
   ]
  },
  {
   "cell_type": "markdown",
   "id": "1d8b7b25-db98-4c12-886d-1a0664871e98",
   "metadata": {},
   "source": [
    "### Method 1: `SQLDatabase` Utility (Schema-Focused)\n",
    "\n",
    "The `SQLDatabase` utility is a high-level wrapper that connects to your database and provides convenient methods for getting schema information. This is extremely useful for **Text-to-SQL** applications, where you need to give an LLM the database schema so it can write its own queries. For standard RAG, this information can be ingested as context."
   ]
  },
  {
   "cell_type": "code",
   "execution_count": 9,
   "id": "2750a1f5",
   "metadata": {},
   "outputs": [
    {
     "name": "stdout",
     "output_type": "stream",
     "text": [
      "Tables: ['employees', 'projects']\n",
      "\n",
      "Table DDL:\n",
      "\n",
      "CREATE TABLE employees (\n",
      "\tid INTEGER, \n",
      "\tname TEXT, \n",
      "\trole TEXT, \n",
      "\tdepartment TEXT, \n",
      "\tsalary REAL, \n",
      "\tPRIMARY KEY (id)\n",
      ")\n",
      "\n",
      "/*\n",
      "3 rows from employees table:\n",
      "id\tname\trole\tdepartment\tsalary\n",
      "1\tJohn Doe\tSenior Developer\tEngineering\t95000.0\n",
      "2\tJane Smith\tData Scientist\tAnalytics\t105000.0\n",
      "3\tMike Johnson\tProduct Manager\tProduct\t110000.0\n",
      "*/\n",
      "\n",
      "\n",
      "CREATE TABLE projects (\n",
      "\tid INTEGER, \n",
      "\tname TEXT, \n",
      "\tstatus TEXT, \n",
      "\tbudget REAL, \n",
      "\tlead_id INTEGER, \n",
      "\tPRIMARY KEY (id)\n",
      ")\n",
      "\n",
      "/*\n",
      "3 rows from projects table:\n",
      "id\tname\tstatus\tbudget\tlead_id\n",
      "1\tRAG Implementation\tActive\t150000.0\t1\n",
      "2\tData Pipeline\tCompleted\t80000.0\t2\n",
      "3\tCustomer Portal\tPlanning\t200000.0\t3\n",
      "*/\n"
     ]
    }
   ],
   "source": [
    "# Connect to the database using a URI (Uniform Resource Identifier).\n",
    "db = SQLDatabase.from_uri(\"sqlite:///data/databases/company.db\")\n",
    "\n",
    "# Get a list of table names in the database.\n",
    "print(f\"Tables: {db.get_usable_table_names()}\")\n",
    "\n",
    "# get_table_info() is a powerful method that returns the SQL DDL (CREATE TABLE statements)\n",
    "# for each table, along with a few sample rows. This is excellent context for an LLM.\n",
    "print(f\"\\nTable DDL:\")\n",
    "print(db.get_table_info())"
   ]
  },
  {
   "cell_type": "markdown",
   "id": "4225a07c-9da5-4f4e-a136-12822a945d9b",
   "metadata": {},
   "source": [
    "### Method 2: `SQLDatabaseLoader` (Query-Focused)\n",
    "\n",
    "This loader connects to the database, runs a specific query you provide, and treats **each row** of the result as a separate `Document`. This is the most direct way to ingest specific data subsets from your database."
   ]
  },
  {
   "cell_type": "code",
   "execution_count": 10,
   "id": "b3e3e07d-5a8b-4a34-a74e-6e8e89f664a7",
   "metadata": {},
   "outputs": [
    {
     "name": "stdout",
     "output_type": "stream",
     "text": [
      "2️⃣ SQLDatabaseLoader\n",
      "Loaded 2 documents from the query.\n",
      "First document's content:\n",
      "id: 1\n",
      "name: John Doe\n",
      "role: Senior Developer\n",
      "\n",
      "First document's metadata:\n",
      "{}\n"
     ]
    }
   ],
   "source": [
    "print(\"2️⃣ SQLDatabaseLoader\")\n",
    "# Define the query we want to run.\n",
    "query = \"SELECT id, name, role FROM employees WHERE department = 'Engineering'\"\n",
    "\n",
    "# Initialize the loader with the db object and the query.\n",
    "loader = SQLDatabaseLoader(db=db, query=query)\n",
    "\n",
    "# Load the data. Each row becomes a Document.\n",
    "docs_from_loader = loader.load()\n",
    "\n",
    "print(f\"Loaded {len(docs_from_loader)} documents from the query.\")\n",
    "print(\"First document's content:\")\n",
    "# The page_content is a string representation of the row's dictionary.\n",
    "print(docs_from_loader[0].page_content)\n",
    "print(\"\\nFirst document's metadata:\")\n",
    "print(docs_from_loader[0].metadata)"
   ]
  },
  {
   "cell_type": "markdown",
   "id": "c7f99849-5e72-463d-82c8-7c858b1ab6b9",
   "metadata": {},
   "source": [
    "### Method 3: Custom SQL to Document Conversion (Content-Focused)\n",
    "\n",
    "For many RAG use cases, providing only the schema or raw rows isn't enough. We want to create rich, descriptive documents from the database content itself. A custom function gives us full control to:\n",
    "1.  Create a summary `Document` for each table.\n",
    "2.  Create `Document` objects that describe the **relationships** between tables by using SQL `JOIN` queries. This pre-computes valuable insights that an LLM would otherwise have to figure out on its own."
   ]
  },
  {
   "cell_type": "code",
   "execution_count": 11,
   "id": "dda3a730",
   "metadata": {},
   "outputs": [
    {
     "name": "stdout",
     "output_type": "stream",
     "text": [
      "\n",
      "3️⃣ Custom SQL Processing\n"
     ]
    }
   ],
   "source": [
    "from typing import List\n",
    "from langchain_core.documents import Document\n",
    "\n",
    "print(\"\\n3️⃣ Custom SQL Processing\")\n",
    "\n",
    "def sql_to_documents(db_path: str) -> List[Document]:\n",
    "    \"\"\"Connects to a SQL DB and creates structured Documents for tables and their relationships.\"\"\"\n",
    "    conn = sqlite3.connect(db_path)\n",
    "    cursor = conn.cursor()\n",
    "    documents = []\n",
    "    \n",
    "    # --- Strategy 1: Create a summary document for each table ---\n",
    "    cursor.execute(\"SELECT name FROM sqlite_master WHERE type='table';\")\n",
    "    tables = cursor.fetchall()\n",
    "\n",
    "    for table in tables:\n",
    "        table_name = table[0]\n",
    "        # Get column names for the table.\n",
    "        cursor.execute(f\"PRAGMA table_info({table_name});\")\n",
    "        columns = [col[1] for col in cursor.fetchall()]\n",
    "        # Get all data from the table.\n",
    "        cursor.execute(f\"SELECT * FROM {table_name}\")\n",
    "        rows = cursor.fetchall()\n",
    "        \n",
    "        # Format the table summary into a readable string.\n",
    "        table_content = f\"Table Name: {table_name}\\nColumns: {', '.join(columns)}\\nTotal Records: {len(rows)}\\n\\nSample Records:\\n\"\n",
    "        for row in rows[:3]: # Add first 3 records as samples\n",
    "            record = dict(zip(columns, row))\n",
    "            table_content += f\"{record}\\n\"\n",
    "        \n",
    "        doc = Document(page_content=table_content, metadata={'source': db_path, 'table_name': table_name})\n",
    "        documents.append(doc)\n",
    "\n",
    "    # --- Strategy 2: Create a document describing relationships using a JOIN ---\n",
    "    # This query finds which employee leads which project.\n",
    "    query = \"\"\"\n",
    "        SELECT e.name, e.role, p.name as project_name, p.status\n",
    "        FROM employees e JOIN projects p ON e.id = p.lead_id\n",
    "    \"\"\"\n",
    "    cursor.execute(query)\n",
    "    relationships = cursor.fetchall()\n",
    "    \n",
    "    # Format the relationships into a natural language summary.\n",
    "    rel_content = \"Employee-Project Leadership Summary:\\n\"\n",
    "    for rel in relationships:\n",
    "        rel_content += f\"- {rel[0]} (Role: {rel[1]}) is the lead for the '{rel[2]}' project, which is currently {rel[3]}.\\n\"\n",
    "    \n",
    "    rel_doc = Document(page_content=rel_content, metadata={'source': db_path, 'data_type': 'relationships'})\n",
    "    documents.append(rel_doc)\n",
    "    \n",
    "    conn.close()\n",
    "    return documents"
   ]
  },
  {
   "cell_type": "code",
   "execution_count": 12,
   "id": "c247dc83",
   "metadata": {},
   "outputs": [
    {
     "data": {
      "text/plain": [
       "[Document(metadata={'source': 'data/databases/company.db', 'table_name': 'employees'}, page_content=\"Table Name: employees\\nColumns: id, name, role, department, salary\\nTotal Records: 4\\n\\nSample Records:\\n{'id': 1, 'name': 'John Doe', 'role': 'Senior Developer', 'department': 'Engineering', 'salary': 95000.0}\\n{'id': 2, 'name': 'Jane Smith', 'role': 'Data Scientist', 'department': 'Analytics', 'salary': 105000.0}\\n{'id': 3, 'name': 'Mike Johnson', 'role': 'Product Manager', 'department': 'Product', 'salary': 110000.0}\\n\"),\n",
       " Document(metadata={'source': 'data/databases/company.db', 'table_name': 'projects'}, page_content=\"Table Name: projects\\nColumns: id, name, status, budget, lead_id\\nTotal Records: 4\\n\\nSample Records:\\n{'id': 1, 'name': 'RAG Implementation', 'status': 'Active', 'budget': 150000.0, 'lead_id': 1}\\n{'id': 2, 'name': 'Data Pipeline', 'status': 'Completed', 'budget': 80000.0, 'lead_id': 2}\\n{'id': 3, 'name': 'Customer Portal', 'status': 'Planning', 'budget': 200000.0, 'lead_id': 3}\\n\"),\n",
       " Document(metadata={'source': 'data/databases/company.db', 'data_type': 'relationships'}, page_content=\"Employee-Project Leadership Summary:\\n- John Doe (Role: Senior Developer) is the lead for the 'RAG Implementation' project, which is currently Active.\\n- Jane Smith (Role: Data Scientist) is the lead for the 'Data Pipeline' project, which is currently Completed.\\n- Mike Johnson (Role: Product Manager) is the lead for the 'Customer Portal' project, which is currently Planning.\\n- Jane Smith (Role: Data Scientist) is the lead for the 'ML Platform' project, which is currently Active.\\n\")]"
      ]
     },
     "execution_count": 12,
     "metadata": {},
     "output_type": "execute_result"
    }
   ],
   "source": [
    "# Execute the custom function and see the resulting documents.\n",
    "sql_docs = sql_to_documents(\"data/databases/company.db\")\n",
    "sql_docs"
   ]
  },
  {
   "cell_type": "markdown",
   "id": "18e3b0a2-ad44-78ca-93d7-e44d371ba53d",
   "metadata": {},
   "source": [
    "### 📊 SQL Processing Strategy Comparison\n",
    "\n",
    "| Strategy | Output | Key Feature | Best For |\n",
    "| :--- | :--- | :---: | :--- |\n",
    "| **`SQLDatabase` Utility** | Schema DDL & sample rows | Provides the database's blueprint. | **Text-to-SQL Agents**. Gives an LLM the structural information it needs to write its own `SELECT` queries. |\n",
    "| **`SQLDatabaseLoader`** | One `Document` per row from a query | Simple, direct data extraction. | **Quickly ingesting specific data subsets**. Useful for loading raw query results (e.g., all product descriptions) for embedding. |\n",
    "| **Custom Function** | Formatted text summaries of tables and relationships. | Pre-computes and summarizes key insights. | **Standard RAG**. The most powerful option. Creates high-quality documents (like table summaries and relationship descriptions) for answering complex questions. |"
   ]
  },
  {
   "cell_type": "markdown",
   "id": "f280a82b-5813-4c90-99c5-0370483ba645",
   "metadata": {},
   "source": [
    "### 🔑 Key Takeaways\n",
    "\n",
    "* **Schema is Context**: When working with SQL databases for RAG, providing the schema (tables, columns) is as important as the data itself. The LLM needs this blueprint to understand the data's structure.\n",
    "* **LangChain Utilities for Different Goals**: `SQLDatabase` is for getting schema, while `SQLDatabaseLoader` is for getting raw data from a query. They serve different but complementary purposes.\n",
    "* **Custom Functions for Content**: For a sophisticated RAG workflow, a custom function that connects to the database is more powerful. It allows you to create bespoke `Document` objects that summarize tables in a readable format.\n",
    "* **Unlock Insights with JOINs**: The most valuable documents you can create from a relational database are often those that describe the **relationships** between tables. Writing a SQL `JOIN` query and formatting the results into a natural language summary provides powerful, pre-computed context for the LLM."
   ]
  }
 ],
 "metadata": {
  "kernelspec": {
   "display_name": "Ultimate RAG Bootcamp",
   "language": "python",
   "name": "python3"
  },
  "language_info": {
   "codemirror_mode": {
    "name": "ipython",
    "version": 3
   },
   "file_extension": ".py",
   "mimetype": "text/x-python",
   "name": "python",
   "nbconvert_exporter": "python",
   "pygments_lexer": "ipython3",
   "version": "3.13.3"
  }
 },
 "nbformat": 4,
 "nbformat_minor": 5
}
