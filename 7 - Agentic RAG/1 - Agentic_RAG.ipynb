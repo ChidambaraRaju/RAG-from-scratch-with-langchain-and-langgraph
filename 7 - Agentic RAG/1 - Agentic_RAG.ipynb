{
 "cells": [
  {
   "cell_type": "markdown",
   "id": "a987e0f2-b8d4-4b52-9c9e-5b23d9a1012a",
   "metadata": {},
   "source": [
    "### 📖 Where We Are\n",
    "\n",
    "**In the previous sections**, we mastered advanced retrieval techniques like Hybrid Search, Reranking, and MMR to improve the quality of documents fed into a static RAG pipeline.\n",
    "\n",
    "**In this new section on Agentic RAG**, we are making a fundamental shift. Instead of a fixed, linear pipeline (Retrieve → Generate), we will build a dynamic, intelligent system where an **LLM-powered agent** is in control. This agent will use **LangGraph** to create a cyclical workflow, allowing it to reason, use tools, reflect on its actions, and decide on the best course of action to answer a user's query."
   ]
  },
  {
   "cell_type": "markdown",
   "id": "19ab913a",
   "metadata": {},
   "source": [
    "### 1. Agentic RAG with LangGraph"
   ]
  },
  {
   "cell_type": "code",
   "execution_count": 1,
   "id": "da2985b8",
   "metadata": {},
   "outputs": [],
   "source": [
    "# --- Environment Setup ---\n",
    "import os\n",
    "from dotenv import load_dotenv\n",
    "load_dotenv()\n",
    "# Set up the API key for Groq, which we'll use for our LLM.\n",
    "os.environ[\"GROQ_API_KEY\"] = os.getenv(\"GROQ_API_KEY\")"
   ]
  },
  {
   "cell_type": "code",
   "execution_count": 3,
   "id": "64c96f04",
   "metadata": {},
   "outputs": [],
   "source": [
    "# --- LangChain Imports ---\n",
    "from langchain_community.document_loaders import WebBaseLoader\n",
    "from langchain_community.vectorstores import FAISS\n",
    "from langchain_openai import OpenAIEmbeddings\n",
    "from langchain_text_splitters import RecursiveCharacterTextSplitter\n",
    "from langchain_huggingface import HuggingFaceEmbeddings"
   ]
  },
  {
   "cell_type": "markdown",
   "id": "b0a2a468-18e3-4610-ad44-783ca89369d7",
   "metadata": {},
   "source": [
    "### 2. Creating the Agent's Tools\n",
    "An agent needs tools to interact with the world. For an Agentic RAG system, the primary tools are retrievers that connect to different knowledge bases. We will create two separate vector stores to simulate a scenario where the agent must choose the correct source of information."
   ]
  },
  {
   "cell_type": "code",
   "execution_count": 4,
   "id": "4a08aee2",
   "metadata": {},
   "outputs": [
    {
     "name": "stderr",
     "output_type": "stream",
     "text": [
      "c:\\Users\\USER\\Desktop\\Ultimate RAG Bootcamp\\.venv\\Lib\\site-packages\\tqdm\\auto.py:21: TqdmWarning: IProgress not found. Please update jupyter and ipywidgets. See https://ipywidgets.readthedocs.io/en/stable/user_install.html\n",
      "  from .autonotebook import tqdm as notebook_tqdm\n"
     ]
    }
   ],
   "source": [
    "# --- Tool 1: LangGraph Knowledge Base ---\n",
    "urls = [\n",
    "    \"https://langchain-ai.github.io/langgraph/concepts/why-langgraph/\",\n",
    "    \"https://langchain-ai.github.io/langgraph/tutorials/workflows/\",\n",
    "    \"https://langchain-ai.github.io/langgraph/how-tos/graph-api/#map-reduce-and-the-send-api\"\n",
    "]\n",
    "\n",
    "docs = [WebBaseLoader(url).load() for url in urls]\n",
    "docs_list = [item for sublist in docs for item in sublist]\n",
    "text_splitter = RecursiveCharacterTextSplitter(chunk_size=1000, chunk_overlap=100)\n",
    "doc_splits = text_splitter.split_documents(docs_list)\n",
    "vectorstore=FAISS.from_documents(documents=doc_splits, embedding=HuggingFaceEmbeddings(model=\"all-MiniLM-L6-v2\"))\n",
    "retriever = vectorstore.as_retriever()"
   ]
  },
  {
   "cell_type": "code",
   "execution_count": 5,
   "id": "e0a7a99e",
   "metadata": {},
   "outputs": [],
   "source": [
    "from langchain.tools.retriever import create_retriever_tool\n",
    "retriever_tool = create_retriever_tool(\n",
    "    retriever,\n",
    "    \"retriever_vector_db_blog\",\n",
    "    \"Search and retrieve information about LangGraph.\"\n",
    ")"
   ]
  },
  {
   "cell_type": "code",
   "execution_count": 7,
   "id": "f834d0de",
   "metadata": {},
   "outputs": [],
   "source": [
    "# --- Tool 2: LangChain Knowledge Base ---\n",
    "langchain_urls = [\n",
    "    \"https://python.langchain.com/docs/tutorials/\",\n",
    "    \"https://python.langchain.com/docs/tutorials/chatbot/\",\n",
    "    \"https://python.langchain.com/docs/tutorials/qa_chat_history/\"\n",
    "]\n",
    "docs = [WebBaseLoader(url).load() for url in langchain_urls]\n",
    "docs_list = [item for sublist in docs for item in sublist]\n",
    "doc_splits = text_splitter.split_documents(docs_list)\n",
    "vectorstore_langchain = FAISS.from_documents(documents=doc_splits, embedding=HuggingFaceEmbeddings(model=\"all-MiniLM-L6-v2\"))\n",
    "retriever_langchain = vectorstore_langchain.as_retriever()"
   ]
  },
  {
   "cell_type": "code",
   "execution_count": 9,
   "id": "cf70c2f1",
   "metadata": {},
   "outputs": [],
   "source": [
    "retriever_tool_langchain = create_retriever_tool(\n",
    "    retriever_langchain,\n",
    "    \"retriever_vector_langchain_blog\",\n",
    "    \"Search and retrieve information about the general LangChain framework.\"\n",
    ")"
   ]
  },
  {
   "cell_type": "code",
   "execution_count": 10,
   "id": "edbc7887",
   "metadata": {},
   "outputs": [],
   "source": [
    "tools = [retriever_tool, retriever_tool_langchain]"
   ]
  },
  {
   "cell_type": "markdown",
   "id": "760a65ca",
   "metadata": {},
   "source": [
    "### 3. Defining the Agent's State and Workflow with LangGraph"
   ]
  },
  {
   "cell_type": "code",
   "execution_count": 11,
   "id": "127c309b",
   "metadata": {},
   "outputs": [],
   "source": [
    "from typing import Annotated, Sequence\n",
    "from typing_extensions import TypedDict\n",
    "from langchain_core.messages import BaseMessage\n",
    "from langgraph.graph.message import add_messages\n",
    "\n",
    "class AgentState(TypedDict):\n",
    "    messages: Annotated[Sequence[BaseMessage], add_messages]"
   ]
  },
  {
   "cell_type": "code",
   "execution_count": 12,
   "id": "9b581a0a",
   "metadata": {},
   "outputs": [],
   "source": [
    "from langchain_groq import ChatGroq\n",
    "llm = ChatGroq(model=\"moonshotai/kimi-k2-instruct\")\n",
    "llm_with_tools = llm.bind_tools(tools)"
   ]
  },
  {
   "cell_type": "markdown",
   "id": "c7f99849-5e72-463d-82c8-7c858b1ab6b9",
   "metadata": {},
   "source": [
    "Now we define the **nodes** and **edges** for our self-corrective graph. This workflow is more advanced than a simple tool-calling agent. It includes nodes for retrieving, grading the relevance of the retrieval, and rewriting the query if needed."
   ]
  },
  {
   "cell_type": "code",
   "execution_count": 21,
   "id": "f5176f4c",
   "metadata": {},
   "outputs": [],
   "source": [
    "from langchain_core.messages import SystemMessage, ToolMessage, HumanMessage\n",
    "\n",
    "# --- AGENT NODE ---\n",
    "def agent(state: AgentState):\n",
    "    print(\"--- CALL AGENT ---\")\n",
    "    system_prompt = \"\"\"You are a helpful assistant. Your main purpose is to answer questions about LangChain and LangGraph.\n",
    "    You have access to two specific tools to answer questions about these topics. Based on the user's query, you must decide which, if any, tool to call.\"\"\"\n",
    "    \n",
    "    messages = [SystemMessage(content=system_prompt)] + state[\"messages\"]\n",
    "    response = llm_with_tools.invoke(messages)\n",
    "    return {\"messages\": [response]}"
   ]
  },
  {
   "cell_type": "code",
   "execution_count": 22,
   "id": "ed80d86d",
   "metadata": {},
   "outputs": [],
   "source": [
    "from typing import Literal\n",
    "from langchain_core.prompts import PromptTemplate\n",
    "from pydantic import BaseModel, Field\n",
    "\n",
    "# --- GRADER NODE ---\n",
    "# This node evaluates the relevance of the retrieved documents.\n",
    "def grade_documents(state) -> Literal[\"generate\", \"rewrite\"]:\n",
    "    print(\"--- CHECK DOCUMENT RELEVANCE ---\")\n",
    "    \n",
    "    class Grade(BaseModel):\n",
    "        \"\"\"Binary score for relevance check.\"\"\"\n",
    "        binary_score: str = Field(description=\"Relevance score 'yes' or 'no'\")\n",
    "\n",
    "    # Use a separate, structured-output LLM for grading.\n",
    "    grader_llm = ChatGroq(model=\"moonshotai/kimi-k2-instruct\").with_structured_output(Grade)\n",
    "\n",
    "    prompt = PromptTemplate(\n",
    "        template=\"\"\"You are a grader assessing the relevance of a retrieved document to a user question.\n",
    "        Here is the retrieved document: \\n\\n {context} \\n\\n Here is the user question: {question} \\n\n",
    "\n",
    "        If the document contains keywords or semantic meaning related to the question, grade it as relevant. \n",
    "        Give a binary score 'yes' or 'no' to indicate whether the document is relevant.\"\"\",\n",
    "        input_variables=[\"context\", \"question\"],\n",
    "    )\n",
    "    \n",
    "    chain = prompt | grader_llm\n",
    "    question = state[\"messages\"][0].content\n",
    "    docs = state[\"messages\"][-1].content\n",
    "    \n",
    "    # Invoke the chain to get the grade.\n",
    "    scored_result = chain.invoke({\"question\": question, \"context\": docs})\n",
    "    \n",
    "    if scored_result.binary_score == \"yes\":\n",
    "        print(\"--- DECISION: DOCS RELEVANT ---\")\n",
    "        return \"generate\" # If relevant, proceed to generate the answer.\n",
    "    else:\n",
    "        print(\"--- DECISION: DOCS NOT RELEVANT ---\")\n",
    "        return \"rewrite\" # If not relevant, go to the rewrite node.\n"
   ]
  },
  {
   "cell_type": "code",
   "execution_count": 23,
   "id": "884aa9a3",
   "metadata": {},
   "outputs": [],
   "source": [
    "# --- GENERATE NODE ---\n",
    "# This node generates the final answer if the documents are deemed relevant.\n",
    "def generate(state: AgentState):\n",
    "    print(\"--- GENERATE FINAL ANSWER ---\")\n",
    "    question = state[\"messages\"][0].content\n",
    "    context = state[\"messages\"][-1].content\n",
    "    \n",
    "    prompt = f\"\"\"You are an assistant for question-answering tasks. Use the following pieces of retrieved context to answer the question. \n",
    "    If you don't know the answer, just say that you don't know. Keep the answer concise.\n",
    "    Question: {question} \\n Context: {context} \\n Answer:\"\"\"\n",
    "    \n",
    "    response = llm.invoke(prompt)\n",
    "    return {\"messages\": [response]}"
   ]
  },
  {
   "cell_type": "code",
   "execution_count": 24,
   "id": "aa2a563b",
   "metadata": {},
   "outputs": [],
   "source": [
    "# --- REWRITE NODE ---\n",
    "# This node rewrites the user's question if the initial retrieval was not relevant.\n",
    "def rewrite(state):\n",
    "    print(\"--- REWRITING QUERY ---\")\n",
    "    question = state[\"messages\"][0].content\n",
    "\n",
    "    msg = [HumanMessage(content=f\"\"\"Look at the input and reason about the underlying semantic intent. \n",
    "    Formulate an improved question based on the initial question: {question}\"\"\")]\n",
    "\n",
    "    response = llm.invoke(msg)\n",
    "    return {\"messages\": [response]}"
   ]
  },
  {
   "cell_type": "markdown",
   "id": "1d8b7b25-db98-4c12-886d-1a0664871e98",
   "metadata": {},
   "source": [
    "### 4. Constructing the Self-Corrective Graph"
   ]
  },
  {
   "cell_type": "code",
   "execution_count": 25,
   "id": "26bbd7fc",
   "metadata": {},
   "outputs": [
    {
     "data": {
      "image/png": "[encoded data removed]",
      "text/plain": [
       "<langgraph.graph.state.CompiledStateGraph object at 0x0000029CC36F1F90>"
      ]
     },
     "execution_count": 25,
     "metadata": {},
     "output_type": "execute_result"
    }
   ],
   "source": [
    "from langgraph.graph import END, StateGraph, START\n",
    "from langgraph.prebuilt import ToolNode\n",
    "\n",
    "workflow = StateGraph(AgentState)\n",
    "\n",
    "# Add all the nodes to the graph.\n",
    "workflow.add_node(\"agent\", agent)\n",
    "workflow.add_node(\"retrieve\", ToolNode(tools))\n",
    "workflow.add_node(\"rewrite\", rewrite)\n",
    "workflow.add_node(\"generate\", generate)\n",
    "\n",
    "# Define the edges and the overall flow.\n",
    "workflow.add_edge(START, \"agent\")\n",
    "\n",
    "# Conditional edge from the agent: either call a tool or end.\n",
    "workflow.add_conditional_edges(\n",
    "    \"agent\",\n",
    "    lambda state: \"tools\" if state['messages'][-1].tool_calls else END,\n",
    "    {\"tools\": \"retrieve\", END: END}\n",
    ")\n",
    "\n",
    "# Conditional edge from the retrieve node: grade documents.\n",
    "workflow.add_conditional_edges(\n",
    "    \"retrieve\",\n",
    "    grade_documents,\n",
    "    # If docs are relevant, generate. If not, rewrite the query and loop back to the agent.\n",
    "    {\"generate\": \"generate\", \"rewrite\": \"rewrite\"}\n",
    ")\n",
    "\n",
    "# Final edges: after generating an answer, end. After rewriting, go back to the agent.\n",
    "workflow.add_edge(\"generate\", END)\n",
    "workflow.add_edge(\"rewrite\", \"agent\")\n",
    "\n",
    "# Compile the graph.\n",
    "graph = workflow.compile()\n",
    "\n",
    "# Visualize the graph.\n",
    "graph"
   ]
  },
  {
   "cell_type": "markdown",
   "id": "e44d371b-a53d-4292-8097-f58c7344933a",
   "metadata": {},
   "source": [
    "### 5. Running the Agentic RAG System"
   ]
  },
  {
   "cell_type": "code",
   "execution_count": 26,
   "id": "661decb5",
   "metadata": {},
   "outputs": [
    {
     "name": "stdout",
     "output_type": "stream",
     "text": [
      "--- CALL AGENT ---\n",
      "--- CHECK DOCUMENT RELEVANCE ---\n",
      "--- DECISION: DOCS RELEVANT ---\n",
      "--- GENERATE FINAL ANSWER ---\n"
     ]
    },
    {
     "data": {
      "text/plain": [
       "{'messages': [HumanMessage(content='What is LangGraph?', additional_kwargs={}, response_metadata={}, id='7a3546fe-e324-4ad1-8329-ff374ddce4f4'),\n",
       "  AIMessage(content='I will use the LangGraph search tool to find information about what LangGraph is, since your question is specifically about LangGraph.', additional_kwargs={'tool_calls': [{'id': 'functions.retriever_vector_db_blog:0', 'function': {'arguments': '{\"query\":\"What is LangGraph\"}', 'name': 'retriever_vector_db_blog'}, 'type': 'function'}]}, response_metadata={'token_usage': {'completion_tokens': 49, 'prompt_tokens': 224, 'total_tokens': 273, 'completion_time': 0.181539955, 'prompt_time': 0.02273794, 'queue_time': 0.284260499, 'total_time': 0.204277895}, 'model_name': 'moonshotai/kimi-k2-instruct', 'system_fingerprint': 'fp_b8565bb333', 'service_tier': 'on_demand', 'finish_reason': 'tool_calls', 'logprobs': None}, id='run--34043c58-1ea6-4689-9ec1-8d52cc61a25c-0', tool_calls=[{'name': 'retriever_vector_db_blog', 'args': {'query': 'What is LangGraph'}, 'id': 'functions.retriever_vector_db_blog:0', 'type': 'tool_call'}], usage_metadata={'input_tokens': 224, 'output_tokens': 49, 'total_tokens': 273}),\n",
       "  ToolMessage(content='Set up LangSmith for better debugging\\nSign up for LangSmith to quickly spot issues and improve the performance of your LangGraph projects. LangSmith lets you use trace data to debug, test, and monitor your LLM apps built with LangGraph — read more about how to get started in the docs.\\n\\nDefine and update state¶\\nHere we show how to define and update state in LangGraph. We will demonstrate:\\n\\nHow to use state to define a graph\\'s schema\\nHow to use reducers to control how state updates are processed.\\n\\nWhy split application steps into a sequence with LangGraph?\\n\\nLangGraph makes it easy to add an underlying persistence layer to your application.\\nThis allows state to be checkpointed in between the execution of nodes, so your LangGraph nodes govern:\\n- How state updates are [checkpointed](../concepts/persistence.md)\\n- How interruptions are resumed in [human-in-the-loop](../concepts/human_in_the_loop.md) workflows\\n- How we can \"rewind\" and branch-off executions using LangGraph\\'s [time travel](../concepts/time-travel.md) features\\n\\nThey also determine how execution steps are [streamed](../concepts/streaming.md), and how your application is visualized\\nand debugged using [LangGraph Studio](../concepts/langgraph_studio.md).\\n\\nLet\\'s demonstrate an end-to-end example. We will create a sequence of three steps:\\n\\nPopulate a value in a key of the state\\nUpdate the same value\\nPopulate a different value\\n\\nLearn LangGraph basics¶\\nTo get acquainted with LangGraph\\'s key concepts and features, complete the following LangGraph basics tutorials series:\\n\\nBuild a basic chatbot\\nAdd tools\\nAdd memory\\nAdd human-in-the-loop controls\\nCustomize state\\nTime travel\\n\\nIn completing this series of tutorials, you will build a support chatbot in LangGraph that can:\\n\\n✅ Answer common questions by searching the web\\n✅ Maintain conversation state across calls  \\n✅ Route complex queries to a human for review  \\n✅ Use custom state to control its behavior  \\n✅ Rewind and explore alternative conversation paths  \\n\\n\\n\\n\\n\\n\\n\\n\\n  Back to top\\n\\n\\n\\n\\n\\n\\n\\n\\n\\n\\n                Previous\\n              \\n\\n                Start with a prebuilt agent\\n              \\n\\n\\n\\n\\n\\n                Next\\n              \\n\\n                1. Build a basic chatbot\\n              \\n\\n\\n\\n\\n\\n\\n\\n\\n\\n\\n      Copyright © 2025 LangChain, Inc | Consent Preferences\\n\\n  \\n  \\n    Made with\\n    \\n      Material for MkDocs\\n\\nLangSmith Trace\\nhttps://smith.langchain.com/public/abab6a44-29f6-4b97-8164-af77413e494d/r\\nWhat LangGraph provides¶\\nBy constructing each of the above in LangGraph, we get a few things:\\nPersistence: Human-in-the-Loop¶\\nLangGraph persistence layer supports interruption and approval of actions (e.g., Human In The Loop). See Module 3 of LangChain Academy.\\nPersistence: Memory¶\\nLangGraph persistence layer supports conversational (short-term) memory and long-term memory. See Modules 2 and 5 of LangChain Academy:\\nStreaming¶\\nLangGraph provides several ways to stream workflow / agent outputs or intermediate state. See Module 3 of LangChain Academy.\\nDeployment¶\\nLangGraph provides an easy on-ramp for deployment, observability, and evaluation. See module 6 of LangChain Academy.\\n\\n\\n\\n\\n\\n\\n\\n  Back to top\\n\\n\\n\\n\\n\\n\\n\\n\\n\\n\\n                Previous\\n              \\n\\n                Run a local server\\n              \\n\\n\\n\\n\\n\\n                Next\\n              \\n\\n                Agent architectures', name='retriever_vector_db_blog', id='0cb9388f-0ed0-4083-afed-74a1806bf3a1', tool_call_id='functions.retriever_vector_db_blog:0'),\n",
       "  AIMessage(content='LangGraph is a framework for building stateful, multi-actor LLM applications. It lets you define graphs with state management, persistence, human-in-the-loop controls, time-travel debugging, streaming, and easy deployment/observability.', additional_kwargs={}, response_metadata={'token_usage': {'completion_tokens': 50, 'prompt_tokens': 785, 'total_tokens': 835, 'completion_time': 0.143230862, 'prompt_time': 0.061719904, 'queue_time': 0.299929935, 'total_time': 0.204950766}, 'model_name': 'moonshotai/kimi-k2-instruct', 'system_fingerprint': 'fp_c5bd0a648b', 'service_tier': 'on_demand', 'finish_reason': 'stop', 'logprobs': None}, id='run--61a05f48-4171-46f9-9480-fca36c84384e-0', usage_metadata={'input_tokens': 785, 'output_tokens': 50, 'total_tokens': 835})]}"
      ]
     },
     "execution_count": 26,
     "metadata": {},
     "output_type": "execute_result"
    }
   ],
   "source": [
    "# Invoke the graph with a question about LangGraph.\n",
    "# The agent should call the correct tool, get relevant docs, and generate an answer.\n",
    "graph.invoke({\"messages\": [HumanMessage(content=\"What is LangGraph?\")]})"
   ]
  },
  {
   "cell_type": "code",
   "execution_count": 27,
   "id": "c03cb88a",
   "metadata": {},
   "outputs": [
    {
     "name": "stdout",
     "output_type": "stream",
     "text": [
      "--- CALL AGENT ---\n"
     ]
    },
    {
     "data": {
      "text/plain": [
       "{'messages': [HumanMessage(content='What is Machine Learning?', additional_kwargs={}, response_metadata={}, id='a3ae738b-b70b-4ed6-b05d-3d8686475a5d'),\n",
       "  AIMessage(content=\"I don't have access to tools that can provide information about general machine learning concepts. The tools I have available are specifically designed to retrieve information about LangGraph and the LangChain framework, not general topics like machine learning.\\n\\nMachine learning is a broad field of artificial intelligence that involves training computer algorithms to learn patterns from data and make predictions or decisions without being explicitly programmed for specific tasks. However, for a comprehensive explanation of machine learning concepts, I'd recommend consulting general AI/ML resources, textbooks, or educational websites.\\n\\nIf you have any questions specifically about LangGraph or LangChain, I'd be happy to help using my specialized search tools!\", additional_kwargs={}, response_metadata={'token_usage': {'completion_tokens': 126, 'prompt_tokens': 224, 'total_tokens': 350, 'completion_time': 0.376156067, 'prompt_time': 0.020678389, 'queue_time': 0.31295582, 'total_time': 0.396834456}, 'model_name': 'moonshotai/kimi-k2-instruct', 'system_fingerprint': 'fp_c5bd0a648b', 'service_tier': 'on_demand', 'finish_reason': 'stop', 'logprobs': None}, id='run--04ff90f5-8f86-4978-bfcd-1a958d350efc-0', usage_metadata={'input_tokens': 224, 'output_tokens': 126, 'total_tokens': 350})]}"
      ]
     },
     "execution_count": 27,
     "metadata": {},
     "output_type": "execute_result"
    }
   ],
   "source": [
    "# Invoke the graph with a question that is NOT about LangChain or LangGraph.\n",
    "# The agent should answer directly without calling any tools.\n",
    "graph.invoke({\"messages\": [HumanMessage(content=\"What is Machine Learning?\")]})"
   ]
  },
  {
   "cell_type": "markdown",
   "id": "f280a82b-5813-4c90-9c5-0370483ba645",
   "metadata": {},
   "source": [
    "### 🔑 Key Takeaways\n",
    "\n",
    "* **Agentic RAG is Dynamic**: Unlike linear RAG pipelines, Agentic RAG uses an LLM-powered agent to dynamically decide what actions to take, such as choosing the right tool for a given query.\n",
    "* **Tools are the Agent's Actions**: The core of an Agentic RAG system is giving the agent a set of **tools**. The `create_retriever_tool` function is a simple way to wrap any data retriever into a tool the agent can use.\n",
    "* **LangGraph for Cyclical Workflows**: LangGraph is the key library for building agentic systems. It allows you to define your workflow as a **state graph** with nodes (actions) and conditional edges (logic), enabling loops and complex decision-making.\n",
    "* **Self-Correction for Robustness**: This advanced workflow shows a self-corrective pattern. By adding nodes to **grade** the relevance of retrieved documents and **rewrite** the query if needed, the agent can recover from a poor initial retrieval, making the system much more robust.\n",
    "* **State Management**: The `AgentState` object acts as the agent's memory, persisting information across the different nodes and cycles of the graph."
   ]
  }
 ],
 "metadata": {
  "kernelspec": {
   "display_name": "Ultimate RAG Bootcamp",
   "language": "python",
   "name": "python3"
  },
  "language_info": {
   "codemirror_mode": {
    "name": "ipython",
    "version": 3
   },
   "file_extension": ".py",
   "mimetype": "text/x-python",
   "name": "python",
   "nbconvert_exporter": "python",
   "pygments_lexer": "ipython3",
   "version": "3.13.3"
  }
 },
 "nbformat": 4,
 "nbformat_minor": 5
}
